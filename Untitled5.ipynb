{
  "nbformat": 4,
  "nbformat_minor": 0,
  "metadata": {
    "colab": {
      "provenance": [],
      "authorship_tag": "ABX9TyNPEaDZkT35DE5EWtxJEff+",
      "include_colab_link": true
    },
    "kernelspec": {
      "name": "python3",
      "display_name": "Python 3"
    },
    "language_info": {
      "name": "python"
    }
  },
  "cells": [
    {
      "cell_type": "markdown",
      "metadata": {
        "id": "view-in-github",
        "colab_type": "text"
      },
      "source": [
        "<a href=\"https://colab.research.google.com/github/karlaecg/streamlit/blob/main/Untitled5.ipynb\" target=\"_parent\"><img src=\"https://colab.research.google.com/assets/colab-badge.svg\" alt=\"Open In Colab\"/></a>"
      ]
    },
    {
      "cell_type": "code",
      "execution_count": null,
      "metadata": {
        "colab": {
          "base_uri": "https://localhost:8080/"
        },
        "id": "DSLbReub5MYN",
        "outputId": "816f2e2b-16a2-4f92-e7d0-c4755cb12989"
      },
      "outputs": [
        {
          "output_type": "stream",
          "name": "stdout",
          "text": [
            "\u001b[2K     \u001b[90m━━━━━━━━━━━━━━━━━━━━━━━━━━━━━━━━━━━━━━━━\u001b[0m \u001b[32m8.4/8.4 MB\u001b[0m \u001b[31m28.6 MB/s\u001b[0m eta \u001b[36m0:00:00\u001b[0m\n",
            "\u001b[2K     \u001b[90m━━━━━━━━━━━━━━━━━━━━━━━━━━━━━━━━━━━━━━━━\u001b[0m \u001b[32m190.6/190.6 kB\u001b[0m \u001b[31m15.6 MB/s\u001b[0m eta \u001b[36m0:00:00\u001b[0m\n",
            "\u001b[2K     \u001b[90m━━━━━━━━━━━━━━━━━━━━━━━━━━━━━━━━━━━━━━━━\u001b[0m \u001b[32m4.8/4.8 MB\u001b[0m \u001b[31m71.5 MB/s\u001b[0m eta \u001b[36m0:00:00\u001b[0m\n",
            "\u001b[2K     \u001b[90m━━━━━━━━━━━━━━━━━━━━━━━━━━━━━━━━━━━━━━━━\u001b[0m \u001b[32m82.1/82.1 kB\u001b[0m \u001b[31m9.2 MB/s\u001b[0m eta \u001b[36m0:00:00\u001b[0m\n",
            "\u001b[2K     \u001b[90m━━━━━━━━━━━━━━━━━━━━━━━━━━━━━━━━━━━━━━━━\u001b[0m \u001b[32m62.7/62.7 kB\u001b[0m \u001b[31m5.3 MB/s\u001b[0m eta \u001b[36m0:00:00\u001b[0m\n",
            "\u001b[?25h"
          ]
        }
      ],
      "source": [
        "pip install streamlit -q"
      ]
    },
    {
      "cell_type": "code",
      "source": [
        "pip install streamlit-lottie"
      ],
      "metadata": {
        "colab": {
          "base_uri": "https://localhost:8080/"
        },
        "id": "xSHjB4Ky5V4o",
        "outputId": "0e3e0b36-e558-4f57-e76c-16539a1495c3"
      },
      "execution_count": null,
      "outputs": [
        {
          "output_type": "stream",
          "name": "stdout",
          "text": [
            "Collecting streamlit-lottie\n",
            "  Downloading streamlit_lottie-0.0.5-py3-none-any.whl (802 kB)\n",
            "\u001b[2K     \u001b[90m━━━━━━━━━━━━━━━━━━━━━━━━━━━━━━━━━━━━━━━━\u001b[0m \u001b[32m802.4/802.4 kB\u001b[0m \u001b[31m8.2 MB/s\u001b[0m eta \u001b[36m0:00:00\u001b[0m\n",
            "\u001b[?25hRequirement already satisfied: streamlit>=0.63 in /usr/local/lib/python3.10/dist-packages (from streamlit-lottie) (1.29.0)\n",
            "Requirement already satisfied: altair<6,>=4.0 in /usr/local/lib/python3.10/dist-packages (from streamlit>=0.63->streamlit-lottie) (4.2.2)\n",
            "Requirement already satisfied: blinker<2,>=1.0.0 in /usr/lib/python3/dist-packages (from streamlit>=0.63->streamlit-lottie) (1.4)\n",
            "Requirement already satisfied: cachetools<6,>=4.0 in /usr/local/lib/python3.10/dist-packages (from streamlit>=0.63->streamlit-lottie) (5.3.2)\n",
            "Requirement already satisfied: click<9,>=7.0 in /usr/local/lib/python3.10/dist-packages (from streamlit>=0.63->streamlit-lottie) (8.1.7)\n",
            "Requirement already satisfied: importlib-metadata<7,>=1.4 in /usr/local/lib/python3.10/dist-packages (from streamlit>=0.63->streamlit-lottie) (6.8.0)\n",
            "Requirement already satisfied: numpy<2,>=1.19.3 in /usr/local/lib/python3.10/dist-packages (from streamlit>=0.63->streamlit-lottie) (1.23.5)\n",
            "Requirement already satisfied: packaging<24,>=16.8 in /usr/local/lib/python3.10/dist-packages (from streamlit>=0.63->streamlit-lottie) (23.2)\n",
            "Requirement already satisfied: pandas<3,>=1.3.0 in /usr/local/lib/python3.10/dist-packages (from streamlit>=0.63->streamlit-lottie) (1.5.3)\n",
            "Requirement already satisfied: pillow<11,>=7.1.0 in /usr/local/lib/python3.10/dist-packages (from streamlit>=0.63->streamlit-lottie) (9.4.0)\n",
            "Requirement already satisfied: protobuf<5,>=3.20 in /usr/local/lib/python3.10/dist-packages (from streamlit>=0.63->streamlit-lottie) (3.20.3)\n",
            "Requirement already satisfied: pyarrow>=6.0 in /usr/local/lib/python3.10/dist-packages (from streamlit>=0.63->streamlit-lottie) (9.0.0)\n",
            "Requirement already satisfied: python-dateutil<3,>=2.7.3 in /usr/local/lib/python3.10/dist-packages (from streamlit>=0.63->streamlit-lottie) (2.8.2)\n",
            "Requirement already satisfied: requests<3,>=2.27 in /usr/local/lib/python3.10/dist-packages (from streamlit>=0.63->streamlit-lottie) (2.31.0)\n",
            "Requirement already satisfied: rich<14,>=10.14.0 in /usr/local/lib/python3.10/dist-packages (from streamlit>=0.63->streamlit-lottie) (13.7.0)\n",
            "Requirement already satisfied: tenacity<9,>=8.1.0 in /usr/local/lib/python3.10/dist-packages (from streamlit>=0.63->streamlit-lottie) (8.2.3)\n",
            "Requirement already satisfied: toml<2,>=0.10.1 in /usr/local/lib/python3.10/dist-packages (from streamlit>=0.63->streamlit-lottie) (0.10.2)\n",
            "Requirement already satisfied: typing-extensions<5,>=4.3.0 in /usr/local/lib/python3.10/dist-packages (from streamlit>=0.63->streamlit-lottie) (4.5.0)\n",
            "Requirement already satisfied: tzlocal<6,>=1.1 in /usr/local/lib/python3.10/dist-packages (from streamlit>=0.63->streamlit-lottie) (5.2)\n",
            "Requirement already satisfied: validators<1,>=0.2 in /usr/local/lib/python3.10/dist-packages (from streamlit>=0.63->streamlit-lottie) (0.22.0)\n",
            "Requirement already satisfied: gitpython!=3.1.19,<4,>=3.0.7 in /usr/local/lib/python3.10/dist-packages (from streamlit>=0.63->streamlit-lottie) (3.1.40)\n",
            "Requirement already satisfied: pydeck<1,>=0.8.0b4 in /usr/local/lib/python3.10/dist-packages (from streamlit>=0.63->streamlit-lottie) (0.8.1b0)\n",
            "Requirement already satisfied: tornado<7,>=6.0.3 in /usr/local/lib/python3.10/dist-packages (from streamlit>=0.63->streamlit-lottie) (6.3.2)\n",
            "Requirement already satisfied: watchdog>=2.1.5 in /usr/local/lib/python3.10/dist-packages (from streamlit>=0.63->streamlit-lottie) (3.0.0)\n",
            "Requirement already satisfied: entrypoints in /usr/local/lib/python3.10/dist-packages (from altair<6,>=4.0->streamlit>=0.63->streamlit-lottie) (0.4)\n",
            "Requirement already satisfied: jinja2 in /usr/local/lib/python3.10/dist-packages (from altair<6,>=4.0->streamlit>=0.63->streamlit-lottie) (3.1.2)\n",
            "Requirement already satisfied: jsonschema>=3.0 in /usr/local/lib/python3.10/dist-packages (from altair<6,>=4.0->streamlit>=0.63->streamlit-lottie) (4.19.2)\n",
            "Requirement already satisfied: toolz in /usr/local/lib/python3.10/dist-packages (from altair<6,>=4.0->streamlit>=0.63->streamlit-lottie) (0.12.0)\n",
            "Requirement already satisfied: gitdb<5,>=4.0.1 in /usr/local/lib/python3.10/dist-packages (from gitpython!=3.1.19,<4,>=3.0.7->streamlit>=0.63->streamlit-lottie) (4.0.11)\n",
            "Requirement already satisfied: zipp>=0.5 in /usr/local/lib/python3.10/dist-packages (from importlib-metadata<7,>=1.4->streamlit>=0.63->streamlit-lottie) (3.17.0)\n",
            "Requirement already satisfied: pytz>=2020.1 in /usr/local/lib/python3.10/dist-packages (from pandas<3,>=1.3.0->streamlit>=0.63->streamlit-lottie) (2023.3.post1)\n",
            "Requirement already satisfied: six>=1.5 in /usr/local/lib/python3.10/dist-packages (from python-dateutil<3,>=2.7.3->streamlit>=0.63->streamlit-lottie) (1.16.0)\n",
            "Requirement already satisfied: charset-normalizer<4,>=2 in /usr/local/lib/python3.10/dist-packages (from requests<3,>=2.27->streamlit>=0.63->streamlit-lottie) (3.3.2)\n",
            "Requirement already satisfied: idna<4,>=2.5 in /usr/local/lib/python3.10/dist-packages (from requests<3,>=2.27->streamlit>=0.63->streamlit-lottie) (3.6)\n",
            "Requirement already satisfied: urllib3<3,>=1.21.1 in /usr/local/lib/python3.10/dist-packages (from requests<3,>=2.27->streamlit>=0.63->streamlit-lottie) (2.0.7)\n",
            "Requirement already satisfied: certifi>=2017.4.17 in /usr/local/lib/python3.10/dist-packages (from requests<3,>=2.27->streamlit>=0.63->streamlit-lottie) (2023.11.17)\n",
            "Requirement already satisfied: markdown-it-py>=2.2.0 in /usr/local/lib/python3.10/dist-packages (from rich<14,>=10.14.0->streamlit>=0.63->streamlit-lottie) (3.0.0)\n",
            "Requirement already satisfied: pygments<3.0.0,>=2.13.0 in /usr/local/lib/python3.10/dist-packages (from rich<14,>=10.14.0->streamlit>=0.63->streamlit-lottie) (2.16.1)\n",
            "Requirement already satisfied: smmap<6,>=3.0.1 in /usr/local/lib/python3.10/dist-packages (from gitdb<5,>=4.0.1->gitpython!=3.1.19,<4,>=3.0.7->streamlit>=0.63->streamlit-lottie) (5.0.1)\n",
            "Requirement already satisfied: MarkupSafe>=2.0 in /usr/local/lib/python3.10/dist-packages (from jinja2->altair<6,>=4.0->streamlit>=0.63->streamlit-lottie) (2.1.3)\n",
            "Requirement already satisfied: attrs>=22.2.0 in /usr/local/lib/python3.10/dist-packages (from jsonschema>=3.0->altair<6,>=4.0->streamlit>=0.63->streamlit-lottie) (23.1.0)\n",
            "Requirement already satisfied: jsonschema-specifications>=2023.03.6 in /usr/local/lib/python3.10/dist-packages (from jsonschema>=3.0->altair<6,>=4.0->streamlit>=0.63->streamlit-lottie) (2023.11.2)\n",
            "Requirement already satisfied: referencing>=0.28.4 in /usr/local/lib/python3.10/dist-packages (from jsonschema>=3.0->altair<6,>=4.0->streamlit>=0.63->streamlit-lottie) (0.31.1)\n",
            "Requirement already satisfied: rpds-py>=0.7.1 in /usr/local/lib/python3.10/dist-packages (from jsonschema>=3.0->altair<6,>=4.0->streamlit>=0.63->streamlit-lottie) (0.13.2)\n",
            "Requirement already satisfied: mdurl~=0.1 in /usr/local/lib/python3.10/dist-packages (from markdown-it-py>=2.2.0->rich<14,>=10.14.0->streamlit>=0.63->streamlit-lottie) (0.1.2)\n",
            "Installing collected packages: streamlit-lottie\n",
            "Successfully installed streamlit-lottie-0.0.5\n"
          ]
        }
      ]
    },
    {
      "cell_type": "code",
      "source": [
        "pip install pillow"
      ],
      "metadata": {
        "colab": {
          "base_uri": "https://localhost:8080/"
        },
        "id": "WFb5_80Q5jf2",
        "outputId": "76113f56-7b16-4198-b833-f25f541eb479"
      },
      "execution_count": null,
      "outputs": [
        {
          "output_type": "stream",
          "name": "stdout",
          "text": [
            "Requirement already satisfied: pillow in /usr/local/lib/python3.10/dist-packages (9.4.0)\n"
          ]
        }
      ]
    },
    {
      "cell_type": "code",
      "source": [
        "%%writefile app.py\n",
        "\n",
        "import streamlit as st\n",
        "import yfinance as yf\n",
        "import pandas as pd\n",
        "import plotly as plt\n",
        "import plotly.graph_objects as go\n",
        "import exchange_calendars as xcals\n",
        "from datetime import date\n",
        "\n",
        "def download_data(tickers, start_date='2001-01-01', end_date=date.today().strftime('%Y-%m-%d')):\n",
        "    data = yf.download(tickers, start=start_date, end=end_date)\n",
        "\n",
        "    return data['Close']\n",
        "\n",
        "def calcular_fechas(hoy: pd.Timestamp):\n",
        "    # Obtén el calendario de la bolsa de México\n",
        "    xmex = xcals.get_calendar(\"XMEX\")\n",
        "\n",
        "    # Si el día de la semana es lunes (0 en el sistema Python weekday()), retrocede 3 días\n",
        "    if hoy.weekday() == 0:\n",
        "        prev_business_day = hoy - pd.Timedelta(days=3)\n",
        "    # De lo contrario, solo retrocede un día\n",
        "    else:\n",
        "        prev_business_day = hoy - pd.Timedelta(days=1)\n",
        "\n",
        "    # Si el día calculado no es un día hábil, busca el día hábil más reciente\n",
        "    if not xmex.is_session(prev_business_day):\n",
        "        prev_business_day = xmex.previous_close(prev_business_day).to_pydatetime()\n",
        "\n",
        "    ayer = prev_business_day\n",
        "\n",
        "    # Crear un diccionario para almacenar los resultados\n",
        "    resultado = {}\n",
        "\n",
        "    # Mes hasta la fecha\n",
        "    primer_dia_mes = xmex.date_to_session(hoy.replace(day=1), direction=\"next\")\n",
        "    if hoy == primer_dia_mes:\n",
        "        # Si hoy es el primer día hábil del mes, toma el primer día hábil del mes anterior\n",
        "        mes_anterior = hoy - pd.DateOffset(months=1)\n",
        "        primer_dia_mes = xmex.date_to_session(mes_anterior.replace(day=1), direction=\"next\")\n",
        "\n",
        "    # Calcula los días hábiles entre el primer día del mes y hoy\n",
        "    dias_habiles = len(xmex.sessions_in_range(primer_dia_mes, hoy))+1\n",
        "\n",
        "    # Usa estos días hábiles para obtener la ventana de sesiones\n",
        "    mes_hasta_fecha = xmex.sessions_window(hoy, -dias_habiles)\n",
        "\n",
        "    # Año hasta la fecha\n",
        "    primer_dia_año = xmex.date_to_session(hoy.replace(month=1, day=1), direction=\"next\")\n",
        "    if hoy == primer_dia_año:\n",
        "        # Si hoy es el primer día hábil del año, toma el primer día hábil del año anterior\n",
        "        año_anterior = hoy - pd.DateOffset(years=1)\n",
        "        primer_dia_año = xmex.date_to_session(año_anterior.replace(month=1, day=1), direction=\"next\")\n",
        "\n",
        "    # Calcula los días hábiles entre el primer día del año y hoy\n",
        "    dias_habiles = len(xmex.sessions_in_range(primer_dia_año, hoy))+1\n",
        "\n",
        "    # Usa estos días hábiles para obtener la ventana de sesiones\n",
        "    año_hasta_fecha = xmex.sessions_window(hoy, -dias_habiles)\n",
        "\n",
        "    # Fecha de hace un mes\n",
        "    hace_un_mes = hoy - pd.DateOffset(months=1)\n",
        "\n",
        "    # Encuentra el día hábil más cercano en el pasado a hace_un_mes\n",
        "    dia_habil_hace_un_mes = xmex.date_to_session(hace_un_mes, direction=\"previous\")\n",
        "\n",
        "    # Obtén todas las sesiones desde hace_un_mes hasta hoy\n",
        "    ultimos_30_dias = xmex.sessions_in_range(dia_habil_hace_un_mes, hoy)\n",
        "\n",
        "    # Fecha de hace tres meses\n",
        "    hace_tres_meses = hoy - pd.DateOffset(months=3)\n",
        "\n",
        "    # Encuentra el día hábil más cercano en el pasado a hace_tres_meses\n",
        "    dia_habil_hace_tres_meses = xmex.date_to_session(hace_tres_meses, direction=\"previous\")\n",
        "\n",
        "    # Obtén todas las sesiones desde hace_tres_meses hasta hoy\n",
        "    ultimos_90_dias = xmex.sessions_in_range(dia_habil_hace_tres_meses, hoy)\n",
        "\n",
        "    # Fecha de hace seis meses\n",
        "    hace_seis_meses = hoy - pd.DateOffset(months=6)\n",
        "\n",
        "    # Encuentra el día hábil más cercano en el pasado a hace_seis_meses\n",
        "    dia_habil_hace_seis_meses = xmex.date_to_session(hace_seis_meses, direction=\"previous\")\n",
        "\n",
        "    # Obtén todas las sesiones desde hace_seis_meses hasta hoy\n",
        "    ultimos_180_dias = xmex.sessions_in_range(dia_habil_hace_seis_meses, hoy)\n",
        "\n",
        "    # Fecha de hace un año\n",
        "    hace_un_año = hoy - pd.DateOffset(years=1)\n",
        "\n",
        "    # Encuentra el día hábil más cercano en el pasado a hace_un_año\n",
        "    dia_habil_hace_un_año = xmex.date_to_session(hace_un_año, direction=\"previous\")\n",
        "\n",
        "    # Obtén todas las sesiones desde hace_un_año hasta hoy\n",
        "    ultimos_365_dias = xmex.sessions_in_range(dia_habil_hace_un_año, hoy)\n",
        "\n",
        "    resultado['mes_hasta_fecha'] = mes_hasta_fecha\n",
        "    resultado['año_hasta_fecha'] = año_hasta_fecha\n",
        "    resultado['ultimos_30_dias'] = ultimos_30_dias\n",
        "    resultado['ultimos_90_dias'] = ultimos_90_dias\n",
        "    resultado['ultimos_180_dias'] = ultimos_180_dias\n",
        "    resultado['ultimos_365_dias'] = ultimos_365_dias\n",
        "\n",
        "    return resultado\n",
        "\n",
        "def anualizar_rendimiento(rendimiento_bruto, dias):\n",
        "    rendimiento_anualizado = rendimiento_bruto / dias * 360\n",
        "    return rendimiento_anualizado\n",
        "\n",
        "def calcular_rendimiento_bruto(precio_inicio, precio_fin, dias):\n",
        "    # Calcular el cambio porcentual en el precio\n",
        "    cambio_pct = (precio_fin / precio_inicio) - 1\n",
        "\n",
        "    # Calcular el rendimiento bruto\n",
        "    rendimiento_bruto = cambio_pct\n",
        "    return rendimiento_bruto\n",
        "\n",
        "def calcular_rendimiento(precios, ventanas_de_tiempo, nombre_benchmark):\n",
        "    rendimientos = []\n",
        "\n",
        "    for periodo, ventana in ventanas_de_tiempo.items():\n",
        "        # Obtén los precios de inicio y fin para la ventana de tiempo actual\n",
        "        precio_inicio = precios.loc[ventana[0], nombre_benchmark]\n",
        "        precio_fin = precios.loc[ventana[-1], nombre_benchmark]\n",
        "\n",
        "        # Calcula el rendimiento bruto y anualizado\n",
        "        rendimiento_bruto = calcular_rendimiento_bruto(precio_inicio, precio_fin, (ventana[-1] - ventana[0]).days)\n",
        "        rendimiento_anualizado = anualizar_rendimiento(rendimiento_bruto, (ventana[-1] - ventana[0]).days)\n",
        "\n",
        "        # Agrega el rendimiento a la lista de rendimientos\n",
        "        rendimientos.append({\n",
        "            'Periodo': periodo,\n",
        "            'Rendimiento_bruto': rendimiento_bruto*100,\n",
        "            'Rendimiento_anualizado': rendimiento_anualizado*100\n",
        "        })\n",
        "\n",
        "    # Convierte la lista de rendimientos en un dataframe\n",
        "    df_rendimientos = pd.DataFrame(rendimientos)\n",
        "\n",
        "    return df_rendimientos\n",
        "\n",
        "tickers = ['GOVT', 'XLV', \"GLD\", \"MCHI\", \"IVV\"]\n",
        "\n",
        "activos=download_data(tickers)\n",
        "activos = activos.dropna()\n",
        "\n",
        "df_activos = activos.copy()\n",
        "\n",
        "# Opciones de navegación\n",
        "st.sidebar.title(\"Navegación\")\n",
        "option = st.sidebar.radio(\"Seleccione una página\", [\"Activos\", \"Portafolios\"])\n",
        "\n",
        "\n",
        "if option == \"Activos\":\n",
        "    st.title(\"Resumen y Estadisticas del activo\")\n",
        "    activo = st.sidebar.selectbox(\n",
        "        \"Elige un activo\",\n",
        "        ('GOVT', 'XLV', \"GLD\", \"MCHI\", \"IVV\")\n",
        "    )\n",
        "    df_activo = df_activos[activo]\n",
        "\n",
        "    # Crear la figura\n",
        "    fig = go.Figure()\n",
        "\n",
        "    # Agregar los datos del activo a la figura\n",
        "    fig.add_trace(go.Scatter(x=df_activo.index, y=df_activo.values, mode='lines'))\n",
        "\n",
        "    # Establecer títulos y etiquetas\n",
        "    fig.update_layout(title='Precio de cierre historico del activo',\n",
        "                    xaxis_title='Fecha',\n",
        "                    yaxis_title='Precio de Cierre (en $)')\n",
        "\n",
        "    st.plotly_chart(fig)\n",
        "\n",
        "    st.text(\"Pon la fecha a la que quieres los rendimientos:\")\n",
        "\n",
        "    hoy = st.date_input('Introduce la fecha')\n",
        "    hoy = pd.Timestamp(hoy)\n",
        "    ventanas_de_tiempo = calcular_fechas(hoy)\n",
        "\n",
        "    df_rendimientos = calcular_rendimiento(activos, ventanas_de_tiempo, activo)\n",
        "\n",
        "    st.dataframe(df_rendimientos)\n",
        "\n",
        "\n"
      ],
      "metadata": {
        "colab": {
          "base_uri": "https://localhost:8080/"
        },
        "id": "_7aTW_6r5sLF",
        "outputId": "9cd2237b-2374-4cad-d5de-0b0f69cf377d"
      },
      "execution_count": null,
      "outputs": [
        {
          "output_type": "stream",
          "name": "stdout",
          "text": [
            "Overwriting app.py\n"
          ]
        }
      ]
    },
    {
      "cell_type": "code",
      "source": [],
      "metadata": {
        "id": "wqdijvHK6PYp"
      },
      "execution_count": null,
      "outputs": []
    }
  ]
}